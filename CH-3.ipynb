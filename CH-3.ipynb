{
 "cells": [
  {
   "cell_type": "markdown",
   "metadata": {},
   "source": [
    "# Regular Expression  (5%)"
   ]
  },
  {
   "cell_type": "markdown",
   "metadata": {},
   "source": [
    "1) findall()\n",
    "2) search()\n",
    "3) split()\n",
    "4) sub()"
   ]
  },
  {
   "cell_type": "code",
   "execution_count": 9,
   "metadata": {},
   "outputs": [
    {
     "name": "stdout",
     "output_type": "stream",
     "text": [
      "['ai', 'ai']\n",
      "2\n"
     ]
    }
   ],
   "source": [
    "import re\n",
    "\n",
    "S = \"The rain in spain\"\n",
    "\n",
    "x=re.findall('ai',S)\n",
    "print(x)\n",
    "print(len(x))\n",
    "\n",
    "\n",
    "# find character is not in string then give [] emply list in findall function"
   ]
  },
  {
   "cell_type": "code",
   "execution_count": 7,
   "metadata": {},
   "outputs": [
    {
     "name": "stdout",
     "output_type": "stream",
     "text": [
      "['a', 'i', 'i', 'a', 'i']\n"
     ]
    }
   ],
   "source": [
    "x=re.findall('[ai]',S)\n",
    "print(x)"
   ]
  },
  {
   "cell_type": "code",
   "execution_count": 17,
   "metadata": {},
   "outputs": [
    {
     "name": "stdout",
     "output_type": "stream",
     "text": [
      "3\n",
      "4\n"
     ]
    }
   ],
   "source": [
    "y=re.search('\\s',S)  #---> Give only First occurence\n",
    "print(y.start())\n",
    "print(y.end())\n",
    "\n",
    "# find character is not in string then give None in search function"
   ]
  },
  {
   "cell_type": "code",
   "execution_count": 20,
   "metadata": {},
   "outputs": [
    {
     "name": "stdout",
     "output_type": "stream",
     "text": [
      "['The', 'rain', 'in', 'spain']\n"
     ]
    }
   ],
   "source": [
    "# z=re.split(\"\\s\",S,1)  1 means ---> divide in 1 parts\n",
    "z=re.split(\"\\s\",S)\n",
    "print(z)"
   ]
  },
  {
   "cell_type": "code",
   "execution_count": 21,
   "metadata": {},
   "outputs": [
    {
     "name": "stdout",
     "output_type": "stream",
     "text": [
      "The@rain@in@spain\n"
     ]
    }
   ],
   "source": [
    "w=re.sub(\"\\s\",\"@\",S)\n",
    "print(w)"
   ]
  },
  {
   "cell_type": "code",
   "execution_count": 25,
   "metadata": {},
   "outputs": [
    {
     "name": "stdout",
     "output_type": "stream",
     "text": [
      "Not Matched!\n",
      "Not Matched!\n",
      "Found Matched\n"
     ]
    }
   ],
   "source": [
    "# Write a Python program that matches a string that has start with a and ends with b\n",
    "import re\n",
    "\n",
    "def test(S):\n",
    "    patterns = \"^a.*b$\"\n",
    "    if re.search(patterns,S):\n",
    "        print(\"Found Matched\")\n",
    "    else:\n",
    "        print(\"Not Matched!\")\n",
    "        \n",
    "test(\"acd\")\n",
    "test(\"abc\")\n",
    "test(\"acccdddb\")"
   ]
  },
  {
   "cell_type": "code",
   "execution_count": 33,
   "metadata": {},
   "outputs": [
    {
     "name": "stdout",
     "output_type": "stream",
     "text": [
      "Found Matched\n",
      "Found Matched\n",
      "Found Matched\n",
      "Found Matched\n",
      "Not Matched!\n"
     ]
    }
   ],
   "source": [
    "# write a python program that matches a string that has end a followeed by one or more b\n",
    "import re\n",
    "\n",
    "def test(S):\n",
    "    patterns = \"ab+\"\n",
    "    if re.search(patterns,S):\n",
    "        print(\"Found Matched\")\n",
    "    else:\n",
    "        print(\"Not Matched!\")\n",
    "        \n",
    "test(\"ab\")\n",
    "test(\"abbbbb\")\n",
    "test(\"abbbbcs\")\n",
    "test(\"widqwhnabbhs\")\n",
    "test(\"a\")"
   ]
  },
  {
   "cell_type": "code",
   "execution_count": 34,
   "metadata": {},
   "outputs": [
    {
     "name": "stdout",
     "output_type": "stream",
     "text": [
      "Not Matched!\n",
      "Found Matched\n"
     ]
    }
   ],
   "source": [
    "# write a python program that matches a string that has a follwed by 3 small b\n",
    "import re\n",
    "\n",
    "def test(S):\n",
    "    patterns = \"ab{3}\"\n",
    "    if re.search(patterns,S):\n",
    "        print(\"Found Matched\")\n",
    "    else:\n",
    "        print(\"Not Matched!\")\n",
    "        \n",
    "test(\"ab\")\n",
    "test(\"abbbbb\")"
   ]
  },
  {
   "cell_type": "code",
   "execution_count": 35,
   "metadata": {},
   "outputs": [
    {
     "name": "stdout",
     "output_type": "stream",
     "text": [
      "Not Matched!\n",
      "Found Matched\n"
     ]
    }
   ],
   "source": [
    "# write a python program that matches a string that has a followed by 2 or 3 b\n",
    "import re\n",
    "\n",
    "def test(S):\n",
    "    patterns = \"ab{2,3}\"\n",
    "    if re.search(patterns,S):\n",
    "        print(\"Found Matched\")\n",
    "    else:\n",
    "        print(\"Not Matched!\")\n",
    "        \n",
    "test(\"ab\")\n",
    "test(\"abbbbb\")"
   ]
  },
  {
   "cell_type": "code",
   "execution_count": 52,
   "metadata": {},
   "outputs": [
    {
     "name": "stdout",
     "output_type": "stream",
     "text": [
      "Found Matched\n",
      "Not Matched!\n"
     ]
    }
   ],
   "source": [
    "# write a python program that matches a string that matches a word containning 'z' not at the start or end \n",
    "import re\n",
    "\n",
    "def test(S):\n",
    "    patterns = \"^[a-y].*z.*[a-y]$\"\n",
    "    if re.search(patterns,S):\n",
    "        print(\"Found Matched\")\n",
    "    else:\n",
    "        print(\"Not Matched!\")\n",
    "        \n",
    "test(\"azb\")\n",
    "test(\"zabbzzzbbbz\")"
   ]
  },
  {
   "cell_type": "code",
   "execution_count": 57,
   "metadata": {},
   "outputs": [
    {
     "name": "stdout",
     "output_type": "stream",
     "text": [
      "Found Matched\n",
      "Found Matched\n",
      "Not Matched!\n"
     ]
    }
   ],
   "source": [
    "# write a python program to find sequences of lower case letter join with underscore\n",
    "import re\n",
    "\n",
    "def test(S):\n",
    "    patterns = \"[a-z]_[a-z]\"\n",
    "    if re.search(patterns,S):\n",
    "        print(\"Found Matched\")\n",
    "    else:\n",
    "        print(\"Not Matched!\")\n",
    "        \n",
    "test(\"a_b\")\n",
    "test(\"ABCd_c\")\n",
    "test(\"A_B\")"
   ]
  },
  {
   "cell_type": "code",
   "execution_count": 70,
   "metadata": {},
   "outputs": [
    {
     "name": "stdout",
     "output_type": "stream",
     "text": [
      "Found Matched\n",
      "Found Matched\n",
      "Not Matched!\n"
     ]
    }
   ],
   "source": [
    "# write a python program that matches a word at the end of string with optional punction\n",
    "import re\n",
    "\n",
    "def test(S):\n",
    "    patterns = \"^\\w+\\W+$\"\n",
    "    if re.search(patterns,S):\n",
    "        print(\"Found Matched\")\n",
    "    else:\n",
    "        print(\"Not Matched!\")\n",
    "        \n",
    "test(\"a_b.\")\n",
    "test(\"ABCd_c#@\")\n",
    "test(\"@#$%^@#@##@#@#\")"
   ]
  },
  {
   "cell_type": "code",
   "execution_count": 78,
   "metadata": {},
   "outputs": [
    {
     "name": "stdout",
     "output_type": "stream",
     "text": [
      "Found Matched\n",
      "Found Matched\n",
      "Found Matched\n"
     ]
    }
   ],
   "source": [
    "# write a python program to match a string that contains only upper and lowercase letter number and underscores \n",
    "import re\n",
    "\n",
    "def test(S):\n",
    "    patterns = \"^[A-z0-9_]*$\"\n",
    "    if re.search(patterns,S):\n",
    "        print(\"Found Matched\")\n",
    "    else:\n",
    "        print(\"Not Matched!\")\n",
    "        \n",
    "test(\"Ab12\")\n",
    "test(\"s1Abb_\")\n",
    "test(\"Ab_\")"
   ]
  },
  {
   "cell_type": "code",
   "execution_count": 83,
   "metadata": {},
   "outputs": [
    {
     "name": "stdout",
     "output_type": "stream",
     "text": [
      "Found Matched\n",
      "Found Matched\n",
      "Not Matched!\n",
      "Not Matched!\n"
     ]
    }
   ],
   "source": [
    "# write a python program to number only 2 digit between o to 59\n",
    "import re\n",
    "\n",
    "def test(S):\n",
    "    patterns = \"^[0-5][0-9]$\"\n",
    "    if re.search(patterns,S):\n",
    "        print(\"Found Matched\")\n",
    "    else:\n",
    "        print(\"Not Matched!\")\n",
    "        \n",
    "test(\"35\")\n",
    "test(\"45\")\n",
    "test(\"001\")\n",
    "test(\"536\")"
   ]
  },
  {
   "cell_type": "code",
   "execution_count": null,
   "metadata": {},
   "outputs": [],
   "source": []
  }
 ],
 "metadata": {
  "kernelspec": {
   "display_name": "Python 3",
   "language": "python",
   "name": "python3"
  },
  "language_info": {
   "codemirror_mode": {
    "name": "ipython",
    "version": 3
   },
   "file_extension": ".py",
   "mimetype": "text/x-python",
   "name": "python",
   "nbconvert_exporter": "python",
   "pygments_lexer": "ipython3",
   "version": "3.8.5"
  }
 },
 "nbformat": 4,
 "nbformat_minor": 4
}
